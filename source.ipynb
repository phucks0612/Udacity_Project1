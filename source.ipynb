{
 "cells": [
  {
   "cell_type": "code",
   "execution_count": 1,
   "metadata": {},
   "outputs": [
    {
     "name": "stderr",
     "output_type": "stream",
     "text": [
      "/opt/conda/lib/python3.6/site-packages/IPython/core/interactiveshell.py:2785: DtypeWarning: Columns (8,12,13,14,15,16,50,51,52,53,55,56,57,58,59,60,61,62,63,64,65,66,67,68,69,70,71,72,73,74,75,76,77,78,79,80,81,82,83,84,85,93,94,95,96,97,98,99,100,101,102,103,104,105,106,107,108,109,110,111,112,113,114,115,116,117,118,119,120,121,122,123,124,125,126,127,128) have mixed types. Specify dtype option on import or set low_memory=False.\n",
      "  interactivity=interactivity, compiler=compiler, result=result)\n"
     ]
    }
   ],
   "source": [
    "import numpy as np\n",
    "import pandas as pd\n",
    "\n",
    "# The schema name for the 2 column since the name for the same column changes every years\n",
    "# Years Program: \"How long has it been since you first learned how to program?\"\n",
    "# Years Coded Job: \"For how many years have you coded as part of your job?\"\n",
    "df_schema_years = [\"YearsProgram\",\"YearsCoding\",\"YearsCode\",\"YearsCode\"]\n",
    "df_schema_yearsPro = [\"YearsCodedJob\",\"YearsCodingProf\",\"YearsCodePro\",\"YearsCodePro\"]\n",
    "# data fram for 4 years (2017,2018,2019,2020)\n",
    "df = [None] * 4\n",
    "df[0] = pd.read_csv('./survey_results_public.csv')\n",
    "df[1] = pd.read_csv('./survey_results_project_2018.csv')\n",
    "df[2] = pd.read_csv('./survey_results_project_2019.csv')\n",
    "df[3] = pd.read_csv('./survey_results_project_2020.csv')\n",
    "\n",
    "# clean the data\n",
    "df[0].dropna(subset = [\"Salary\",\"YearsProgram\",\"YearsCodedJob\"], inplace=True)\n",
    "\n",
    "# extract the approriate columns\n",
    "exp = df[0][[\"Salary\",\"YearsProgram\",\"YearsCodedJob\",\"CareerSatisfaction\"]]\n",
    "\n",
    "# Params: \n",
    "#   1) years: the name for the Years Program column\n",
    "#   2) yearsPro: the name for the Years Coded Job column\n",
    "#\n",
    "# Output: return a list of the difference between the Years Program and Years Coded Job\n",
    "def get_YearsProgramPrior(df, years, yearsPro):\n",
    "    arr = []\n",
    "    for index, row in df.iterrows():\n",
    "        if (row[years] == \"Less than a year\"):\n",
    "            program = 1\n",
    "        else:\n",
    "            temp = row[years].replace(\"-\",\" \")\n",
    "            digits = [int(s) for s in temp.split() if s.isdigit()]\n",
    "            if len(digits) == 2:\n",
    "                program = digits[1]\n",
    "            else:\n",
    "                program = digits[0]\n",
    "    \n",
    "        if (row[yearsPro] == \"Less than a year\"):\n",
    "            codedjob = 1\n",
    "        else:\n",
    "            temp = row[yearsPro].replace(\"-\",\" \")\n",
    "            digits = [int(s) for s in temp.split() if s.isdigit()]\n",
    "            if len(digits) == 2:\n",
    "                codedjob = digits[1]\n",
    "            else:\n",
    "                codedjob = digits[0]\n",
    "        arr.append(program-codedjob)\n",
    "    return arr\n",
    "\n",
    "# add the YearsProgramPrior column into the data\n",
    "arr = get_YearsProgramPrior(df[0],df_schema_years[0],df_schema_yearsPro[0])\n",
    "exp.insert(loc=3,column=\"YearsProgramPrior\", value=arr)\n",
    "exp = exp[exp[\"YearsProgramPrior\"] >= 0]"
   ]
  },
  {
   "cell_type": "code",
   "execution_count": 2,
   "metadata": {},
   "outputs": [
    {
     "name": "stdout",
     "output_type": "stream",
     "text": [
      "0     14.384117\n",
      "1      9.542139\n",
      "2     10.251216\n",
      "3     11.324959\n",
      "4     11.264182\n",
      "5      9.683955\n",
      "6      7.435170\n",
      "7      6.280389\n",
      "8      4.821718\n",
      "9      4.882496\n",
      "10     3.383306\n",
      "11     2.086710\n",
      "12     1.519449\n",
      "13     0.992707\n",
      "14     0.688817\n",
      "15     0.648298\n",
      "16     0.425446\n",
      "17     0.101297\n",
      "18     0.202593\n",
      "19     0.081037\n",
      "Name: YearsProgramPrior, dtype: float64\n"
     ]
    }
   ],
   "source": [
    "#get the percentage of each YearsProgramPrior values\n",
    "print(exp['YearsProgramPrior'].value_counts(normalize=True).sort_index()*100)"
   ]
  },
  {
   "cell_type": "code",
   "execution_count": 4,
   "metadata": {},
   "outputs": [
    {
     "data": {
      "text/plain": [
       "<matplotlib.axes._subplots.AxesSubplot at 0x7f691d32f860>"
      ]
     },
     "execution_count": 4,
     "metadata": {},
     "output_type": "execute_result"
    },
    {
     "data": {
      "image/png": "[encoded data removed]",
      "text/plain": [
       "<matplotlib.figure.Figure at 0x7f691d366048>"
      ]
     },
     "metadata": {
      "needs_background": "light"
     },
     "output_type": "display_data"
    }
   ],
   "source": [
    "#plot the sum of each YearsProgramPrior values\n",
    "exp['YearsProgramPrior'].value_counts().sort_index().plot(kind=\"bar\")"
   ]
  },
  {
   "cell_type": "code",
   "execution_count": 5,
   "metadata": {},
   "outputs": [
    {
     "data": {
      "text/plain": [
       "<matplotlib.axes._subplots.AxesSubplot at 0x7f691d2fe518>"
      ]
     },
     "execution_count": 5,
     "metadata": {},
     "output_type": "execute_result"
    },
    {
     "data": {
      "image/png": "[encoded data removed]",
      "text/plain": [
       "<matplotlib.figure.Figure at 0x7f691d314710>"
      ]
     },
     "metadata": {
      "needs_background": "light"
     },
     "output_type": "display_data"
    }
   ],
   "source": [
    "#plot the mean salary for each YearsProgramPrior values\n",
    "exp.groupby('YearsProgramPrior')['Salary'].mean().plot(kind='bar')"
   ]
  },
  {
   "cell_type": "code",
   "execution_count": 6,
   "metadata": {},
   "outputs": [
    {
     "data": {
      "text/plain": [
       "<matplotlib.axes._subplots.AxesSubplot at 0x7f691d3b6cc0>"
      ]
     },
     "execution_count": 6,
     "metadata": {},
     "output_type": "execute_result"
    },
    {
     "data": {
      "image/png": "[encoded data removed]",
      "text/plain": [
       "<matplotlib.figure.Figure at 0x7f691d256320>"
      ]
     },
     "metadata": {
      "needs_background": "light"
     },
     "output_type": "display_data"
    }
   ],
   "source": [
    "#plot the mean Career Satisfaction for each YearsProgramPrior values\n",
    "exp.groupby('YearsProgramPrior')[\"CareerSatisfaction\"].mean().plot(kind=\"bar\")"
   ]
  },
  {
   "cell_type": "code",
   "execution_count": 7,
   "metadata": {},
   "outputs": [
    {
     "name": "stdout",
     "output_type": "stream",
     "text": [
      "AxesSubplot(0.125,0.125;0.775x0.755)\n"
     ]
    },
    {
     "data": {
      "image/png": "[encoded data removed]",
      "text/plain": [
       "<matplotlib.figure.Figure at 0x7f69202645c0>"
      ]
     },
     "metadata": {
      "needs_background": "light"
     },
     "output_type": "display_data"
    }
   ],
   "source": [
    "#plot the average YearsProgramPrior for each year(2017 -> 2020)\n",
    "out = [None] * 4\n",
    "for i in range(4):\n",
    "    df[i].dropna(subset = [df_schema_years[i],df_schema_yearsPro[i]], inplace=True)\n",
    "    temp = get_YearsProgramPrior(df[i],df_schema_years[i],df_schema_yearsPro[i])\n",
    "    out[i] = sum(temp) / len(temp)\n",
    "print(pd.Series(out,index=[\"2017\",\"2018\",\"2019\",\"2020\"]).plot(kind=\"bar\"))"
   ]
  },
  {
   "cell_type": "code",
   "execution_count": null,
   "metadata": {},
   "outputs": [],
   "source": []
  }
 ],
 "metadata": {
  "kernelspec": {
   "display_name": "Python 3",
   "language": "python",
   "name": "python3"
  },
  "language_info": {
   "codemirror_mode": {
    "name": "ipython",
    "version": 3
   },
   "file_extension": ".py",
   "mimetype": "text/x-python",
   "name": "python",
   "nbconvert_exporter": "python",
   "pygments_lexer": "ipython3",
   "version": "3.6.3"
  }
 },
 "nbformat": 4,
 "nbformat_minor": 2
}
